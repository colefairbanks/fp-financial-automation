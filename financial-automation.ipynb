{
 "cells": [
  {
   "cell_type": "code",
   "execution_count": 144,
   "id": "e23c5452-2b03-410f-b135-0c64cb701581",
   "metadata": {
    "tags": []
   },
   "outputs": [],
   "source": [
    "import math\n",
    "import pandas as pd\n",
    "from datetime import date\n",
    "from dateutil.relativedelta import relativedelta"
   ]
  },
  {
   "cell_type": "markdown",
   "id": "9038ebbc-2385-47ba-b094-a576c74bbebf",
   "metadata": {},
   "source": [
    "### Current Time Metrics"
   ]
  },
  {
   "cell_type": "code",
   "execution_count": 145,
   "id": "573d1134-87f5-415d-b3f3-82a8ea2eae80",
   "metadata": {
    "tags": []
   },
   "outputs": [],
   "source": [
    "today = date.today()"
   ]
  },
  {
   "cell_type": "code",
   "execution_count": 146,
   "id": "ad23a3cc-380e-4f55-8656-672690a2c88d",
   "metadata": {
    "tags": []
   },
   "outputs": [],
   "source": [
    "current_year = (date.today() - relativedelta(months=1)).year"
   ]
  },
  {
   "cell_type": "code",
   "execution_count": 147,
   "id": "6825a594-309b-4e59-95d3-3e48ca2e8f2d",
   "metadata": {
    "tags": []
   },
   "outputs": [],
   "source": [
    "current_month = math.ceil(today.month)"
   ]
  },
  {
   "cell_type": "code",
   "execution_count": 148,
   "id": "fb978175-3297-4ef9-a515-1a1aa5b01ad7",
   "metadata": {
    "tags": []
   },
   "outputs": [],
   "source": [
    "current_quarter = 'Q' + str(math.ceil((today.month)/3))"
   ]
  },
  {
   "cell_type": "markdown",
   "id": "eb75b978-6356-4eaf-8d9e-730f92823564",
   "metadata": {
    "tags": []
   },
   "source": [
    "### Reading Mint Transactions CSV into Dataframe"
   ]
  },
  {
   "cell_type": "code",
   "execution_count": 149,
   "id": "e8262edb-fe6c-4240-82ea-bf10978e6b48",
   "metadata": {
    "tags": []
   },
   "outputs": [],
   "source": [
    "df = pd.read_csv('../fp-financial-automation/mint_transactions_2022.csv').astype(str)"
   ]
  },
  {
   "cell_type": "code",
   "execution_count": 150,
   "id": "aa39a707-219c-4b92-941f-e3b06a62bc54",
   "metadata": {
    "tags": []
   },
   "outputs": [],
   "source": [
    "df['Date'] = pd.to_datetime(df['Date'])"
   ]
  },
  {
   "cell_type": "code",
   "execution_count": 151,
   "id": "d60d96e9-e008-4487-a1c5-753ac63ad5a5",
   "metadata": {
    "tags": []
   },
   "outputs": [],
   "source": [
    "df['Amount'] = df['Amount'].astype(float)"
   ]
  },
  {
   "cell_type": "code",
   "execution_count": 152,
   "id": "000e70d2-3ec5-46ef-a339-0b1f469247d4",
   "metadata": {
    "tags": []
   },
   "outputs": [
    {
     "name": "stdout",
     "output_type": "stream",
     "text": [
      "<class 'pandas.core.frame.DataFrame'>\n",
      "RangeIndex: 786 entries, 0 to 785\n",
      "Data columns (total 9 columns):\n",
      " #   Column                Non-Null Count  Dtype         \n",
      "---  ------                --------------  -----         \n",
      " 0   Date                  786 non-null    datetime64[ns]\n",
      " 1   Description           786 non-null    object        \n",
      " 2   Original Description  786 non-null    object        \n",
      " 3   Amount                786 non-null    float64       \n",
      " 4   Transaction Type      786 non-null    object        \n",
      " 5   Category              786 non-null    object        \n",
      " 6   Account Name          786 non-null    object        \n",
      " 7   Labels                786 non-null    object        \n",
      " 8   Notes                 786 non-null    object        \n",
      "dtypes: datetime64[ns](1), float64(1), object(7)\n",
      "memory usage: 55.4+ KB\n"
     ]
    },
    {
     "data": {
      "text/html": [
       "<div>\n",
       "<style scoped>\n",
       "    .dataframe tbody tr th:only-of-type {\n",
       "        vertical-align: middle;\n",
       "    }\n",
       "\n",
       "    .dataframe tbody tr th {\n",
       "        vertical-align: top;\n",
       "    }\n",
       "\n",
       "    .dataframe thead th {\n",
       "        text-align: right;\n",
       "    }\n",
       "</style>\n",
       "<table border=\"1\" class=\"dataframe\">\n",
       "  <thead>\n",
       "    <tr style=\"text-align: right;\">\n",
       "      <th></th>\n",
       "      <th>Date</th>\n",
       "      <th>Description</th>\n",
       "      <th>Original Description</th>\n",
       "      <th>Amount</th>\n",
       "      <th>Transaction Type</th>\n",
       "      <th>Category</th>\n",
       "      <th>Account Name</th>\n",
       "      <th>Labels</th>\n",
       "      <th>Notes</th>\n",
       "    </tr>\n",
       "  </thead>\n",
       "  <tbody>\n",
       "    <tr>\n",
       "      <th>781</th>\n",
       "      <td>2022-01-03</td>\n",
       "      <td>Williamsburg Water &amp; Sewer</td>\n",
       "      <td>CITY OF WILLIAMSBURG</td>\n",
       "      <td>433.06</td>\n",
       "      <td>debit</td>\n",
       "      <td>Utilities</td>\n",
       "      <td>CREDITCARD Account</td>\n",
       "      <td>Cary - Expense</td>\n",
       "      <td>nan</td>\n",
       "    </tr>\n",
       "    <tr>\n",
       "      <th>782</th>\n",
       "      <td>2022-01-03</td>\n",
       "      <td>Dominion Energy</td>\n",
       "      <td>DOMINION ENERGY VIRGINIA</td>\n",
       "      <td>162.20</td>\n",
       "      <td>debit</td>\n",
       "      <td>Utilities</td>\n",
       "      <td>CREDITCARD Account</td>\n",
       "      <td>Cary - Expense</td>\n",
       "      <td>nan</td>\n",
       "    </tr>\n",
       "    <tr>\n",
       "      <th>783</th>\n",
       "      <td>2022-01-03</td>\n",
       "      <td>DEPOSIT Joaquin Diz Joaquin Di 220103 IVRBJBKKG</td>\n",
       "      <td>ACH DEPOSIT</td>\n",
       "      <td>750.00</td>\n",
       "      <td>credit</td>\n",
       "      <td>Income</td>\n",
       "      <td>Old Rental Checking</td>\n",
       "      <td>nan</td>\n",
       "      <td>nan</td>\n",
       "    </tr>\n",
       "    <tr>\n",
       "      <th>784</th>\n",
       "      <td>2022-01-03</td>\n",
       "      <td>DEPOSIT Joseph Di Libert Joseph Di 220103 IG8X...</td>\n",
       "      <td>ACH DEPOSIT</td>\n",
       "      <td>580.00</td>\n",
       "      <td>credit</td>\n",
       "      <td>Income</td>\n",
       "      <td>Old Rental Checking</td>\n",
       "      <td>nan</td>\n",
       "      <td>nan</td>\n",
       "    </tr>\n",
       "    <tr>\n",
       "      <th>785</th>\n",
       "      <td>2022-01-02</td>\n",
       "      <td>Lisa Gross</td>\n",
       "      <td>Lisa Gross</td>\n",
       "      <td>77.25</td>\n",
       "      <td>debit</td>\n",
       "      <td>Cleaning and maintenance</td>\n",
       "      <td>Cash</td>\n",
       "      <td>Beach - Expense</td>\n",
       "      <td>venmo</td>\n",
       "    </tr>\n",
       "  </tbody>\n",
       "</table>\n",
       "</div>"
      ],
      "text/plain": [
       "          Date                                        Description  \\\n",
       "781 2022-01-03                         Williamsburg Water & Sewer   \n",
       "782 2022-01-03                                    Dominion Energy   \n",
       "783 2022-01-03    DEPOSIT Joaquin Diz Joaquin Di 220103 IVRBJBKKG   \n",
       "784 2022-01-03  DEPOSIT Joseph Di Libert Joseph Di 220103 IG8X...   \n",
       "785 2022-01-02                                         Lisa Gross   \n",
       "\n",
       "         Original Description  Amount Transaction Type  \\\n",
       "781      CITY OF WILLIAMSBURG  433.06            debit   \n",
       "782  DOMINION ENERGY VIRGINIA  162.20            debit   \n",
       "783               ACH DEPOSIT  750.00           credit   \n",
       "784               ACH DEPOSIT  580.00           credit   \n",
       "785                Lisa Gross   77.25            debit   \n",
       "\n",
       "                     Category         Account Name           Labels  Notes  \n",
       "781                 Utilities   CREDITCARD Account   Cary - Expense    nan  \n",
       "782                 Utilities   CREDITCARD Account   Cary - Expense    nan  \n",
       "783                    Income  Old Rental Checking              nan    nan  \n",
       "784                    Income  Old Rental Checking              nan    nan  \n",
       "785  Cleaning and maintenance                 Cash  Beach - Expense  venmo  "
      ]
     },
     "execution_count": 152,
     "metadata": {},
     "output_type": "execute_result"
    }
   ],
   "source": [
    "df.info();\n",
    "df.tail()"
   ]
  },
  {
   "cell_type": "code",
   "execution_count": 153,
   "id": "67b7ee1f-a563-49d9-bd94-47a79a00e937",
   "metadata": {
    "tags": []
   },
   "outputs": [],
   "source": [
    "df.loc[df['Transaction Type'] == 'credit', 'Amount'] = df['Amount'] * -1"
   ]
  },
  {
   "cell_type": "code",
   "execution_count": 154,
   "id": "05cd18aa-1079-4811-8137-491d9d7f18dd",
   "metadata": {
    "tags": []
   },
   "outputs": [],
   "source": [
    "df = df[df['Category'] != 'Income']"
   ]
  },
  {
   "cell_type": "code",
   "execution_count": 155,
   "id": "81c54a91-b201-4667-806d-9e1ea64961cc",
   "metadata": {
    "tags": []
   },
   "outputs": [],
   "source": [
    "df = df[df['Category'] != 'Mortgage & Rent']"
   ]
  },
  {
   "cell_type": "code",
   "execution_count": 156,
   "id": "8bb05e03-9cbf-4297-9bbb-98f7cb33eb10",
   "metadata": {
    "tags": []
   },
   "outputs": [],
   "source": [
    "df = df[df['Category'] != 'Transfer']"
   ]
  },
  {
   "cell_type": "code",
   "execution_count": 158,
   "id": "8752d7aa-f1a0-43fe-a7d7-dca4b4c79161",
   "metadata": {
    "tags": []
   },
   "outputs": [
    {
     "data": {
      "text/html": [
       "<div>\n",
       "<style scoped>\n",
       "    .dataframe tbody tr th:only-of-type {\n",
       "        vertical-align: middle;\n",
       "    }\n",
       "\n",
       "    .dataframe tbody tr th {\n",
       "        vertical-align: top;\n",
       "    }\n",
       "\n",
       "    .dataframe thead th {\n",
       "        text-align: right;\n",
       "    }\n",
       "</style>\n",
       "<table border=\"1\" class=\"dataframe\">\n",
       "  <thead>\n",
       "    <tr style=\"text-align: right;\">\n",
       "      <th></th>\n",
       "      <th>Date</th>\n",
       "      <th>Description</th>\n",
       "      <th>Original Description</th>\n",
       "      <th>Amount</th>\n",
       "      <th>Transaction Type</th>\n",
       "      <th>Category</th>\n",
       "      <th>Account Name</th>\n",
       "      <th>Labels</th>\n",
       "      <th>Notes</th>\n",
       "    </tr>\n",
       "  </thead>\n",
       "  <tbody>\n",
       "    <tr>\n",
       "      <th>411</th>\n",
       "      <td>2022-06-14</td>\n",
       "      <td>CHECK</td>\n",
       "      <td>CHECK</td>\n",
       "      <td>5000.0</td>\n",
       "      <td>debit</td>\n",
       "      <td>Check</td>\n",
       "      <td>Old Rental Checking</td>\n",
       "      <td>nan</td>\n",
       "      <td>nan</td>\n",
       "    </tr>\n",
       "    <tr>\n",
       "      <th>510</th>\n",
       "      <td>2022-05-12</td>\n",
       "      <td>CHECK</td>\n",
       "      <td>CHECK</td>\n",
       "      <td>5000.0</td>\n",
       "      <td>debit</td>\n",
       "      <td>Check</td>\n",
       "      <td>Old Rental Checking</td>\n",
       "      <td>nan</td>\n",
       "      <td>nan</td>\n",
       "    </tr>\n",
       "  </tbody>\n",
       "</table>\n",
       "</div>"
      ],
      "text/plain": [
       "          Date Description Original Description  Amount Transaction Type  \\\n",
       "411 2022-06-14       CHECK                CHECK  5000.0            debit   \n",
       "510 2022-05-12       CHECK                CHECK  5000.0            debit   \n",
       "\n",
       "    Category         Account Name Labels Notes  \n",
       "411    Check  Old Rental Checking    nan   nan  \n",
       "510    Check  Old Rental Checking    nan   nan  "
      ]
     },
     "execution_count": 158,
     "metadata": {},
     "output_type": "execute_result"
    }
   ],
   "source": [
    "df[df['Category'].str.contains('Check')]"
   ]
  },
  {
   "cell_type": "code",
   "execution_count": 159,
   "id": "b14d1316-a50b-4961-96b5-553d8c0c022b",
   "metadata": {
    "tags": []
   },
   "outputs": [],
   "source": [
    "df['Month'] = pd.PeriodIndex(df.Date, freq='M').astype(str).str[-2:]"
   ]
  },
  {
   "cell_type": "code",
   "execution_count": 160,
   "id": "70c6a6b2-da56-405f-997d-ee501f3783c7",
   "metadata": {
    "tags": []
   },
   "outputs": [],
   "source": [
    "df['Quarter'] = pd.PeriodIndex(df.Date, freq='Q').astype(str).str[-2:]"
   ]
  },
  {
   "cell_type": "code",
   "execution_count": 161,
   "id": "05b6bf67-071b-481e-b75c-6e54b7590a76",
   "metadata": {
    "tags": []
   },
   "outputs": [
    {
     "data": {
      "text/html": [
       "<div>\n",
       "<style scoped>\n",
       "    .dataframe tbody tr th:only-of-type {\n",
       "        vertical-align: middle;\n",
       "    }\n",
       "\n",
       "    .dataframe tbody tr th {\n",
       "        vertical-align: top;\n",
       "    }\n",
       "\n",
       "    .dataframe thead th {\n",
       "        text-align: right;\n",
       "    }\n",
       "</style>\n",
       "<table border=\"1\" class=\"dataframe\">\n",
       "  <thead>\n",
       "    <tr style=\"text-align: right;\">\n",
       "      <th></th>\n",
       "      <th>Amount</th>\n",
       "    </tr>\n",
       "    <tr>\n",
       "      <th>Category</th>\n",
       "      <th></th>\n",
       "    </tr>\n",
       "  </thead>\n",
       "  <tbody>\n",
       "    <tr>\n",
       "      <th>Professional fees</th>\n",
       "      <td>27609.05</td>\n",
       "    </tr>\n",
       "    <tr>\n",
       "      <th>Repairs</th>\n",
       "      <td>17413.14</td>\n",
       "    </tr>\n",
       "    <tr>\n",
       "      <th>Property Tax</th>\n",
       "      <td>14863.29</td>\n",
       "    </tr>\n",
       "    <tr>\n",
       "      <th>Check</th>\n",
       "      <td>10000.00</td>\n",
       "    </tr>\n",
       "    <tr>\n",
       "      <th>Auto and travel</th>\n",
       "      <td>5661.61</td>\n",
       "    </tr>\n",
       "    <tr>\n",
       "      <th>Utilities</th>\n",
       "      <td>4863.60</td>\n",
       "    </tr>\n",
       "    <tr>\n",
       "      <th>Insurance</th>\n",
       "      <td>3982.75</td>\n",
       "    </tr>\n",
       "    <tr>\n",
       "      <th>Norfolk - Expense</th>\n",
       "      <td>3771.25</td>\n",
       "    </tr>\n",
       "    <tr>\n",
       "      <th>Other (list)</th>\n",
       "      <td>2715.67</td>\n",
       "    </tr>\n",
       "    <tr>\n",
       "      <th>Supplies</th>\n",
       "      <td>2649.69</td>\n",
       "    </tr>\n",
       "    <tr>\n",
       "      <th>Washington - Expense</th>\n",
       "      <td>2544.22</td>\n",
       "    </tr>\n",
       "    <tr>\n",
       "      <th>Cash &amp; ATM</th>\n",
       "      <td>2400.00</td>\n",
       "    </tr>\n",
       "    <tr>\n",
       "      <th>Cleaning and maintenance</th>\n",
       "      <td>2230.00</td>\n",
       "    </tr>\n",
       "    <tr>\n",
       "      <th>Advertising</th>\n",
       "      <td>1665.87</td>\n",
       "    </tr>\n",
       "    <tr>\n",
       "      <th>Business Services</th>\n",
       "      <td>757.21</td>\n",
       "    </tr>\n",
       "    <tr>\n",
       "      <th>Hide from Budgets &amp; Trends</th>\n",
       "      <td>600.00</td>\n",
       "    </tr>\n",
       "    <tr>\n",
       "      <th>Mobile Phone</th>\n",
       "      <td>589.85</td>\n",
       "    </tr>\n",
       "    <tr>\n",
       "      <th>Gas &amp; Fuel</th>\n",
       "      <td>460.44</td>\n",
       "    </tr>\n",
       "    <tr>\n",
       "      <th>Fees &amp; Charges</th>\n",
       "      <td>299.71</td>\n",
       "    </tr>\n",
       "    <tr>\n",
       "      <th>Finance Charge</th>\n",
       "      <td>287.28</td>\n",
       "    </tr>\n",
       "  </tbody>\n",
       "</table>\n",
       "</div>"
      ],
      "text/plain": [
       "                              Amount\n",
       "Category                            \n",
       "Professional fees           27609.05\n",
       "Repairs                     17413.14\n",
       "Property Tax                14863.29\n",
       "Check                       10000.00\n",
       "Auto and travel              5661.61\n",
       "Utilities                    4863.60\n",
       "Insurance                    3982.75\n",
       "Norfolk - Expense            3771.25\n",
       "Other (list)                 2715.67\n",
       "Supplies                     2649.69\n",
       "Washington - Expense         2544.22\n",
       "Cash & ATM                   2400.00\n",
       "Cleaning and maintenance     2230.00\n",
       "Advertising                  1665.87\n",
       "Business Services             757.21\n",
       "Hide from Budgets & Trends    600.00\n",
       "Mobile Phone                  589.85\n",
       "Gas & Fuel                    460.44\n",
       "Fees & Charges                299.71\n",
       "Finance Charge                287.28"
      ]
     },
     "execution_count": 161,
     "metadata": {},
     "output_type": "execute_result"
    }
   ],
   "source": [
    "df.groupby('Category').sum(numeric_only=True).sort_values(by='Amount',ascending=False).head(20)"
   ]
  },
  {
   "cell_type": "code",
   "execution_count": null,
   "id": "72b14b9e-188e-4509-b536-d3daac05ba3c",
   "metadata": {},
   "outputs": [],
   "source": []
  },
  {
   "cell_type": "code",
   "execution_count": null,
   "id": "36e4b6dd-1df0-4b3b-bbd9-f62cc6420e37",
   "metadata": {},
   "outputs": [],
   "source": []
  }
 ],
 "metadata": {
  "kernelspec": {
   "display_name": "conda_python3",
   "language": "python",
   "name": "conda_python3"
  },
  "language_info": {
   "codemirror_mode": {
    "name": "ipython",
    "version": 3
   },
   "file_extension": ".py",
   "mimetype": "text/x-python",
   "name": "python",
   "nbconvert_exporter": "python",
   "pygments_lexer": "ipython3",
   "version": "3.10.8"
  }
 },
 "nbformat": 4,
 "nbformat_minor": 5
}
